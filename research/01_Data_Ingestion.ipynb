{
 "cells": [
  {
   "cell_type": "code",
   "execution_count": 1,
   "metadata": {},
   "outputs": [],
   "source": [
    "import os"
   ]
  },
  {
   "cell_type": "code",
   "execution_count": 2,
   "metadata": {},
   "outputs": [
    {
     "data": {
      "text/plain": [
       "'c:\\\\Users\\\\steva\\\\Documents\\\\Projects\\\\data-science\\\\deep-learning-pipeline\\\\research'"
      ]
     },
     "execution_count": 2,
     "metadata": {},
     "output_type": "execute_result"
    }
   ],
   "source": [
    "%pwd"
   ]
  },
  {
   "cell_type": "code",
   "execution_count": 3,
   "metadata": {},
   "outputs": [],
   "source": [
    "os.chdir(\"../\")"
   ]
  },
  {
   "cell_type": "code",
   "execution_count": 4,
   "metadata": {},
   "outputs": [
    {
     "data": {
      "text/plain": [
       "'c:\\\\Users\\\\steva\\\\Documents\\\\Projects\\\\data-science\\\\deep-learning-pipeline'"
      ]
     },
     "execution_count": 4,
     "metadata": {},
     "output_type": "execute_result"
    }
   ],
   "source": [
    "%pwd"
   ]
  },
  {
   "cell_type": "code",
   "execution_count": 17,
   "metadata": {},
   "outputs": [],
   "source": [
    "from dataclasses import dataclass\n",
    "from pathlib import Path\n",
    "\n",
    "@dataclass(frozen=True)\n",
    "class DataIngestionConfig:\n",
    "    root_dir: Path\n",
    "    source_URL: str\n",
    "    kaggle_dataset:  str\n",
    "    local_data_file: Path\n",
    "    unzip_dir: Path\n",
    "\n",
    "\n",
    "\n"
   ]
  },
  {
   "cell_type": "code",
   "execution_count": 6,
   "metadata": {},
   "outputs": [],
   "source": [
    "from cnnClassifier.constants import *\n",
    "from cnnClassifier.utils.common import read_yaml, create_directories\n",
    "\n"
   ]
  },
  {
   "cell_type": "code",
   "execution_count": 18,
   "metadata": {},
   "outputs": [],
   "source": [
    "class ConfigurationManager:\n",
    "    def __init__(\n",
    "        self,\n",
    "        config_filepath = CONFIG_FILE_PATH,\n",
    "        params_filepath =  PARAMS_FILE_PATH):\n",
    "\n",
    "        self.config = read_yaml(config_filepath)\n",
    "        self.params = read_yaml(params_filepath)\n",
    "        \n",
    "        create_directories([self.config.artifacts_root])\n",
    "\n",
    "    def get_data_ingestion_config(self) -> DataIngestionConfig:\n",
    "        config = self.config.data_ingestion\n",
    "\n",
    "        create_directories([config.root_dir])\n",
    "\n",
    "        data_ingestion_config = DataIngestionConfig(\n",
    "            root_dir = config.root_dir,\n",
    "            source_URL= config.source_URL,\n",
    "            kaggle_dataset= config.kaggle_dataset,\n",
    "            local_data_file=config.local_data_file,\n",
    "            unzip_dir =  config.unzip_dir,\n",
    "\n",
    "        )\n",
    "\n",
    "        return data_ingestion_config\n",
    " \n",
    "\n"
   ]
  },
  {
   "cell_type": "code",
   "execution_count": 8,
   "metadata": {},
   "outputs": [],
   "source": [
    "import os\n",
    "import urllib.request as request\n",
    "import zipfile\n",
    "import kaggle\n",
    "import json\n",
    "from cnnClassifier import logger\n",
    "from cnnClassifier.utils.common import get_size\n",
    "from pathlib import Path"
   ]
  },
  {
   "cell_type": "code",
   "execution_count": 19,
   "metadata": {},
   "outputs": [],
   "source": [
    "class DataIngestion:\n",
    "    def __init__(self, config: DataIngestionConfig):\n",
    "        self.config = config\n",
    "\n",
    "    def setup_kaggle_auth(self):\n",
    "        kaggle_json_path = os.path.join(os.path.expanduser('~'), '.kaggle', 'kaggle.json')\n",
    "        if not os.path.exists(kaggle_json_path):\n",
    "            raise FileNotFoundError(f\"Kaggle API credentials not found at {kaggle_json_path}. Please set up your Kaggle API credentials.\")\n",
    "        \n",
    "        # Memeriksa izin file\n",
    "        if os.name != 'nt':  # Untuk sistem non-Windows\n",
    "            if os.stat(kaggle_json_path).st_mode & 0o777 != 0o600:\n",
    "                os.chmod(kaggle_json_path, 0o600)\n",
    "                logger.warning(f\"Changed permissions of {kaggle_json_path} to 0600 for security.\")\n",
    "        \n",
    "        # Menyiapkan environment variables untuk Kaggle API\n",
    "        with open(kaggle_json_path, 'r') as f:\n",
    "            kaggle_cred = json.load(f)\n",
    "        os.environ['KAGGLE_USERNAME'] = kaggle_cred['username']\n",
    "        os.environ['KAGGLE_KEY'] = kaggle_cred['key']\n",
    "        \n",
    "        logger.info(\"Kaggle authentication setup completed.\")\n",
    "\n",
    "    def download_file(self):\n",
    "        if not os.path.exists(self.config.local_data_file):\n",
    "            if self.config.kaggle_dataset:\n",
    "                self.setup_kaggle_auth()  # Menyiapkan autentikasi sebelum mengunduh\n",
    "                kaggle.api.dataset_download_files(\n",
    "                    self.config.kaggle_dataset,\n",
    "                    path=os.path.dirname(self.config.local_data_file),\n",
    "                    unzip=False\n",
    "                )\n",
    "                logger.info(f\"Dataset downloaded from Kaggle: {self.config.kaggle_dataset}\")\n",
    "            elif self.config.source_URL:\n",
    "                filename, headers = request.urlretrieve(\n",
    "                    url = self.config.source_URL,\n",
    "                    filename = self.config.local_data_file\n",
    "                )\n",
    "                logger.info(f\"{filename} download! with following info: \\n{headers}\")\n",
    "            else:\n",
    "                logger.info(\"No Kaggle dataset or source URL specified. Using local file.\")\n",
    "        else:\n",
    "            logger.info(f\"File already exists of size: {get_size(Path(self.config.local_data_file))}\")\n",
    "\n",
    "    \n",
    "\n",
    "\n",
    "    \n",
    "    def extract_zip_file(self):\n",
    "        \"\"\"\n",
    "        zip_file_path: str\n",
    "        Extracts the zip file into the data directory\n",
    "        Function returns None\n",
    "        \"\"\"\n",
    "        unzip_path = self.config.unzip_dir\n",
    "        os.makedirs(unzip_path, exist_ok=True)\n",
    "        with zipfile.ZipFile(self.config.local_data_file, 'r') as zip_ref:\n",
    "            zip_ref.extractall(unzip_path)\n",
    "\n"
   ]
  },
  {
   "cell_type": "code",
   "execution_count": 21,
   "metadata": {},
   "outputs": [
    {
     "name": "stdout",
     "output_type": "stream",
     "text": [
      "[2024-10-05 20:47:57,106] - INFO - yaml file: config\\config.yaml loaded successfully\n",
      "[2024-10-05 20:47:57,107] - INFO - yaml file: params.yaml loaded successfully\n",
      "[2024-10-05 20:47:57,109] - INFO - created directory at: artifacts\n",
      "[2024-10-05 20:47:57,109] - INFO - created directory at: artifacts/data_ingestion\n",
      "[2024-10-05 20:47:57,109] - INFO - File already exists of size: ~ 5440432 KB\n"
     ]
    }
   ],
   "source": [
    "try:\n",
    "    config = ConfigurationManager()\n",
    "    data_ingestion_config = config.get_data_ingestion_config()\n",
    "    data_ingestion = DataIngestion(config=data_ingestion_config)\n",
    "    data_ingestion.download_file()\n",
    "    data_ingestion.extract_zip_file()\n",
    "except Exception as e:\n",
    "    raise e"
   ]
  },
  {
   "cell_type": "code",
   "execution_count": null,
   "metadata": {},
   "outputs": [],
   "source": []
  }
 ],
 "metadata": {
  "kernelspec": {
   "display_name": "venv",
   "language": "python",
   "name": "python3"
  },
  "language_info": {
   "codemirror_mode": {
    "name": "ipython",
    "version": 3
   },
   "file_extension": ".py",
   "mimetype": "text/x-python",
   "name": "python",
   "nbconvert_exporter": "python",
   "pygments_lexer": "ipython3",
   "version": "3.12.6"
  }
 },
 "nbformat": 4,
 "nbformat_minor": 2
}
